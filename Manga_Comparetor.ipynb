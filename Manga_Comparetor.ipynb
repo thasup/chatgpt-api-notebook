{
 "cells": [
  {
   "cell_type": "markdown",
   "id": "ae0c4288",
   "metadata": {},
   "source": [
    "## Install OpenAI Library"
   ]
  },
  {
   "cell_type": "code",
   "execution_count": null,
   "id": "209d57e6",
   "metadata": {},
   "outputs": [],
   "source": [
    "pip install openai"
   ]
  },
  {
   "cell_type": "code",
   "execution_count": null,
   "id": "961a22ae",
   "metadata": {},
   "outputs": [],
   "source": [
    "pip install python-dotenv"
   ]
  },
  {
   "cell_type": "markdown",
   "id": "b2158021",
   "metadata": {},
   "source": [
    "## Import Library"
   ]
  },
  {
   "cell_type": "code",
   "execution_count": null,
   "id": "f325b4ea",
   "metadata": {},
   "outputs": [],
   "source": [
    "import openai\n",
    "import json\n",
    "from dotenv import dotenv_values\n",
    "config = dotenv_values(\".env\")"
   ]
  },
  {
   "cell_type": "markdown",
   "id": "abdb5fa4",
   "metadata": {},
   "source": [
    "## Add API key"
   ]
  },
  {
   "cell_type": "code",
   "execution_count": null,
   "id": "dca316bd",
   "metadata": {},
   "outputs": [],
   "source": [
    "openai.api_key  = config[\"OPENAI_API_KEY\"]"
   ]
  },
  {
   "cell_type": "markdown",
   "id": "4316d4a9",
   "metadata": {},
   "source": [
    "## Declare Functions"
   ]
  },
  {
   "cell_type": "markdown",
   "id": "d33cfd23",
   "metadata": {},
   "source": [
    "### 2nd Prompt (GPT-3)"
   ]
  },
  {
   "cell_type": "code",
   "execution_count": null,
   "id": "23585944",
   "metadata": {},
   "outputs": [],
   "source": [
    "def get_and_render_prompt(char1, manga1, char2, manga2):\n",
    "    message=f\"\"\"\n",
    "    Manga character comparetor\n",
    "\n",
    "    Compare who is the overall strongest character from input choice\n",
    "\n",
    "    Instructions:\n",
    "    - Give a name of winner character\n",
    "    - Give a reason why the winner is the stronger than it opponent\n",
    "    - Give a score out of 100 on how much strong both of them are\n",
    "\n",
    "    Instruction: Compare who is the overall strongest character between {char1} from {manga1} and {char2} from {manga2}\n",
    "\n",
    "    Result:\n",
    "    \"\"\"\n",
    "\n",
    "    completion = openai.Completion.create(\n",
    "            model=\"text-davinci-003\",\n",
    "            prompt=message,\n",
    "            max_tokens=256,\n",
    "            top_p=0.5,\n",
    "            frequency_penalty=0,\n",
    "            presence_penalty=0\n",
    "        )\n",
    "    print(completion.choices[0].text)\n",
    "    print(\"-----\")\n",
    "    print(completion)"
   ]
  },
  {
   "cell_type": "markdown",
   "id": "27e98a56",
   "metadata": {},
   "source": [
    "### 3rd Prompt (GPT-3.5)"
   ]
  },
  {
   "cell_type": "code",
   "execution_count": null,
   "id": "d7f60ee1",
   "metadata": {},
   "outputs": [],
   "source": [
    "def get_and_render_prompt_chat(char1, manga1, char2, manga2):\n",
    "    messages = [\n",
    "        {\n",
    "            \"role\": \"system\",\n",
    "            \"content\": \"You're Manga character comparetor. You'll compare who is the overall strongest character from input choice. You'll give a name of winner character. You'll give a reason why the winner is the stronger than it opponent. You'll give a score out of 100 on how much strong both of them are\"\n",
    "        },\n",
    "        {\n",
    "            \"role\": \"user\",\n",
    "            \"content\": \"Compare who is the overall strongest character between Kaido from One piece and Nagato from Naruto\"\n",
    "        },\n",
    "        {\n",
    "            \"role\": \"assistant\",\n",
    "            \"content\": \"Winner: Kaido from One Piece\\nReason: Kaido is the strongest creature in the world of One Piece, possessing an immense amount of strength and power that is unmatched by any other character in the series. He is also a Logia type Devil Fruit user, which gives him the ability to control and manipulate the elements.\\nScore: Kaido: 100, Nagato: 80\"\n",
    "        },\n",
    "        {\n",
    "            \"role\": \"user\",\n",
    "            \"content\": f\"Compare who is the overall strongest character between {char1} from {manga1} and {char2} from {manga2}\"\n",
    "        },\n",
    "    ]\n",
    "\n",
    "    completion = openai.ChatCompletion.create(\n",
    "            model=\"gpt-3.5-turbo\",\n",
    "            messages=messages,\n",
    "            max_tokens=500,\n",
    "            temperature=0.7,\n",
    "            top_p=0.5,\n",
    "            frequency_penalty=0,\n",
    "            presence_penalty=0\n",
    "        )\n",
    "    print(completion.choices[0].message.content)\n",
    "    print(\"-----\")\n",
    "    print(completion)"
   ]
  },
  {
   "cell_type": "markdown",
   "id": "b188a4f5",
   "metadata": {},
   "source": [
    "## Insert Your Input"
   ]
  },
  {
   "cell_type": "code",
   "execution_count": null,
   "id": "0af966fa",
   "metadata": {},
   "outputs": [],
   "source": [
    "get_and_render_prompt(\"Kaido\", \"One piece\", \"Nagato\", \"Naruto\")"
   ]
  },
  {
   "cell_type": "code",
   "execution_count": null,
   "id": "8da64715",
   "metadata": {},
   "outputs": [],
   "source": [
    "get_and_render_prompt(\"Whitebeard\", \"One piece\", \"Madara\", \"Naruto\")"
   ]
  },
  {
   "cell_type": "code",
   "execution_count": null,
   "id": "d697bca3",
   "metadata": {},
   "outputs": [],
   "source": [
    "get_and_render_prompt_chat(\"Whitebeard\", \"One piece\", \"Madara\", \"Naruto\")"
   ]
  },
  {
   "cell_type": "code",
   "execution_count": null,
   "id": "0295b037",
   "metadata": {},
   "outputs": [],
   "source": [
    "get_and_render_prompt(\"Akainu\", \"One piece\", \"yamamoto genryusai\", \"Bleach\")"
   ]
  },
  {
   "cell_type": "code",
   "execution_count": null,
   "id": "816f1293",
   "metadata": {},
   "outputs": [],
   "source": []
  }
 ],
 "metadata": {
  "kernelspec": {
   "display_name": "Python 3 (ipykernel)",
   "language": "python",
   "name": "python3"
  },
  "language_info": {
   "codemirror_mode": {
    "name": "ipython",
    "version": 3
   },
   "file_extension": ".py",
   "mimetype": "text/x-python",
   "name": "python",
   "nbconvert_exporter": "python",
   "pygments_lexer": "ipython3",
   "version": "3.11.3"
  }
 },
 "nbformat": 4,
 "nbformat_minor": 5
}
