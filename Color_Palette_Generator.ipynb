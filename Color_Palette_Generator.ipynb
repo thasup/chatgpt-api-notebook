{
 "cells": [
  {
   "cell_type": "markdown",
   "id": "ae0c4288",
   "metadata": {},
   "source": [
    "## Install OpenAI Library"
   ]
  },
  {
   "cell_type": "code",
   "execution_count": 19,
   "id": "209d57e6",
   "metadata": {},
   "outputs": [],
   "source": [
    "pip install openai"
   ]
  },
  {
   "cell_type": "code",
   "execution_count": 20,
   "id": "961a22ae",
   "metadata": {},
   "outputs": [],
   "source": [
    "pip install python-dotenv"
   ]
  },
  {
   "cell_type": "markdown",
   "id": "b2158021",
   "metadata": {},
   "source": [
    "## Import Library"
   ]
  },
  {
   "cell_type": "code",
   "execution_count": 21,
   "id": "f325b4ea",
   "metadata": {},
   "outputs": [],
   "source": [
    "import openai\n",
    "import json\n",
    "from dotenv import dotenv_values\n",
    "config = dotenv_values(\".env\")"
   ]
  },
  {
   "cell_type": "markdown",
   "id": "abdb5fa4",
   "metadata": {},
   "source": [
    "## Add API key"
   ]
  },
  {
   "cell_type": "code",
   "execution_count": 22,
   "id": "dca316bd",
   "metadata": {},
   "outputs": [],
   "source": [
    "openai.api_key  = config[\"OPENAI_API_KEY\"]"
   ]
  },
  {
   "cell_type": "markdown",
   "id": "4316d4a9",
   "metadata": {},
   "source": [
    "## Declare Functions"
   ]
  },
  {
   "cell_type": "code",
   "execution_count": 23,
   "id": "9fa05abd",
   "metadata": {},
   "outputs": [],
   "source": [
    "from IPython.display import Markdown, display\n",
    "\n",
    "def display_colors1(colors, names):\n",
    "    display(Markdown(\" \".join(\n",
    "        f'<div style=\"color: {color}\">{name}: {chr(9608) * 5}</div>'\n",
    "        for color, name in zip(colors, names)\n",
    "    )))\n",
    "    \n",
    "# def display_colors2(colors):\n",
    "#     display(Markdown(\" \".join(\n",
    "#         f'<div style=\"color: {color.code}\">{color.name}: {chr(9608) * 5}</div>'\n",
    "#         for color in colors\n",
    "#     )))\n",
    "    \n",
    "def display_colors2(colors):\n",
    "    display(Markdown(\" \".join(\n",
    "        f'<div style=\"color: {color[\"code\"]}\">{color[\"name\"]}: {chr(9608) * 5}</div>'\n",
    "        for color in colors\n",
    "    )))\n"
   ]
  },
  {
   "cell_type": "markdown",
   "id": "856f957e",
   "metadata": {},
   "source": [
    "### 1st Prompt (GPT-3)"
   ]
  },
  {
   "cell_type": "code",
   "execution_count": 24,
   "id": "575dc739",
   "metadata": {},
   "outputs": [],
   "source": [
    "def get_and_render_prompt1(text):\n",
    "    message=f\"\"\"\n",
    "    You are a color palette generating assistant that responds to text prompt for color palettes.\n",
    "    You should generate color palettes that fit the theme, mood, tone, or instructions in the prompt.\n",
    "    \n",
    "    Key Guidelines:\n",
    "    - Avoid duplicating colors code and name within the same palette.\n",
    "    - Keep the palettes within a range of 2 to 8 colors.\n",
    "    - Use a JSON array to represent the color palettes, with each color code in hexadecimal format.\n",
    "    \n",
    "    Examples:\n",
    "    - Q: Convert the following verbal description of a color palette into a list of colors: google brand\n",
    "      A: [\"#4285f4\", \"#34a853\", \"#fbbc05\", \"#ea4335\"]\n",
    "\n",
    "    - Q: Convert the following verbal description of a color palette into a list of colors: midnight pastels\n",
    "      A: [\"#B27DFA\", \"#6C5DC7\", \"#3E4AB0\", \"#2C3E8C\", \"#182F61\", \"#0B1E3E\", \"#080620\"]\n",
    "\n",
    "    Desired Format:\n",
    "      - a JSON array of hexadecimal color codes\n",
    "\n",
    "    Prompt: {text}\n",
    "    Result:\n",
    "    \"\"\"\n",
    "\n",
    "    completion = openai.Completion.create(\n",
    "            model=\"text-davinci-003\",\n",
    "            prompt=message,\n",
    "            max_tokens=100,\n",
    "            temperature=0.8,\n",
    "        )\n",
    "    print(completion.choices[0].text)\n",
    "    print(\"-----\")\n",
    "    print(completion)\n",
    "\n",
    "    colors = json.loads(completion.choices[0].text.strip())\n",
    "    display_colors1(colors)"
   ]
  },
  {
   "cell_type": "markdown",
   "id": "d33cfd23",
   "metadata": {},
   "source": [
    "### 2nd Prompt (GPT-3)"
   ]
  },
  {
   "cell_type": "code",
   "execution_count": 25,
   "id": "23585944",
   "metadata": {},
   "outputs": [],
   "source": [
    "def get_and_render_prompt2(text):\n",
    "    message=f\"\"\"\n",
    "    Color Palette Generator\n",
    "\n",
    "    Generate color palettes that match the given theme, mood, or instructions.\n",
    "\n",
    "    Instructions:\n",
    "    - Provide a verbal description of the color palette you want.\n",
    "    - Avoid duplicating colors within the same palette.\n",
    "    - Keep the palette size between 2 to 8 colors.\n",
    "\n",
    "    Example Usage:\n",
    "    - Instruction: Generate a color palette for a Google brand.\n",
    "    - Output:\"[\"#4285f4\", \"#34a853\", \"#fbbc05\", \"#ea4335\"],[\"Google Blue\", \"Google Green\", \"Google Yellow\", \"Google Red\"]\"\n",
    "\n",
    "    - Instruction: Generate a color palette for ocean pastels color palette.\n",
    "    - Output:\"[\"#83ADFC\", \"#53CBED\", \"#22D9DB\", \"#14D59C\", \"#0EC36F\", \"#2EAC8D\", \"#2A8FBC\"], [\"Sky Blue\", \"Light Blue\", \"Turquoise\", \"Mint Green\", \"Emerald Green\", \"Teal\", \"Navy Blue\"]\"\n",
    "\n",
    "    Desired Response JSON Format:\"[\"#color1\", \"#color2\", ...], [\"name1\", \"name2\", ...]\"\n",
    "\n",
    "    Instruction: Generate a color palette for {text}\n",
    "\n",
    "    Result:\n",
    "    \"\"\"\n",
    "\n",
    "    completion = openai.Completion.create(\n",
    "            model=\"text-davinci-003\",\n",
    "            prompt=message,\n",
    "            max_tokens=256,\n",
    "            top_p=0.5,\n",
    "            frequency_penalty=0,\n",
    "            presence_penalty=0\n",
    "        )\n",
    "    print(completion.choices[0].text)\n",
    "    print(\"-----\")\n",
    "    print(completion)\n",
    "\n",
    "    result = completion.choices[0].text\n",
    "    \n",
    "    colors, names = result.split(\"], [\")\n",
    "\n",
    "    colors = f\"\"\"{colors}]\"\"\"\n",
    "    names = f\"\"\"[{names}\"\"\"\n",
    "    \n",
    "    print(colors)\n",
    "    print(names)\n",
    "    \n",
    "    colors = json.loads(colors)\n",
    "    names = json.loads(names)\n",
    "    \n",
    "    display_colors1(colors, names)"
   ]
  },
  {
   "cell_type": "markdown",
   "id": "6bff45c0",
   "metadata": {},
   "source": [
    "### 3rd Prompt (GPT-3.5)"
   ]
  },
  {
   "cell_type": "code",
   "execution_count": 26,
   "id": "8a8290a3",
   "metadata": {},
   "outputs": [],
   "source": [
    "def get_and_render_prompt_chat1(text):\n",
    "    messages = [\n",
    "        {\n",
    "            \"role\": \"system\",\n",
    "            \"content\": \"\"\"\n",
    "            You're Color Palette Generator. \n",
    "            You'll generate color palettes that match the given theme, mood, or instructions. \n",
    "            You'll avoid duplicating colors and names within the same palette. \n",
    "            You'll keep the palette size between 2 to 8 colors.\n",
    "            \"\"\"\n",
    "        },\n",
    "        {\n",
    "            \"role\": \"user\",\n",
    "            \"content\": \"Generate a color palette for a Google brand.\"\n",
    "        },\n",
    "        {\n",
    "            \"role\": \"assistant\",\n",
    "            \"content\": '[\"#4285f4\", \"#34a853\", \"#fbbc05\", \"#ea4335\"], [\"Google Blue\", \"Google Green\", \"Google Yellow\", \"Google Red\"]'\n",
    "        },\n",
    "        {\n",
    "            \"role\": \"user\",\n",
    "            \"content\": \"Generate a color palette for foresta.\"\n",
    "        },\n",
    "        {\n",
    "            \"role\": \"assistant\",\n",
    "            \"content\": '[\"#3F5F6D\", \"#2F4F4F\", \"#1B4F5F\", \"#006633\", \"#009933\", \"#33CC33\", \"#00CC00\"], [\"Midnight Blue\", \"Dark Slate Gray\", \"Dark Turquoise\", \"Forest Green\", \"Jungle Green\", \"Lime Green\", \"Green\"]'\n",
    "        },\n",
    "        {\n",
    "            \"role\": \"user\",\n",
    "            \"content\": f\"Generate a color palette for {text}\"\n",
    "        },\n",
    "    ]\n",
    "\n",
    "    completion = openai.ChatCompletion.create(\n",
    "            model=\"gpt-3.5-turbo\",\n",
    "            messages=messages,\n",
    "            max_tokens=500,\n",
    "            top_p=0.5,\n",
    "            frequency_penalty=0,\n",
    "            presence_penalty=0\n",
    "        )\n",
    "    print(completion.choices[0].message.content)\n",
    "    print(\"-----\")\n",
    "    print(completion)\n",
    "\n",
    "    result = completion.choices[0].message.content.strip()\n",
    "    \n",
    "    colors, names = result.split(\"], [\")\n",
    "\n",
    "    colors = f\"\"\"{colors}]\"\"\"\n",
    "    names = f\"\"\"[{names}\"\"\"\n",
    "    \n",
    "    print(colors)\n",
    "    print(names)\n",
    "    \n",
    "    colors = json.loads(colors)\n",
    "    names = json.loads(names)\n",
    "    \n",
    "    display_colors1(colors, names)"
   ]
  },
  {
   "cell_type": "code",
   "execution_count": 27,
   "id": "074bc07b",
   "metadata": {},
   "outputs": [],
   "source": [
    "### 4th Prompt (GPT-3.5)"
   ]
  },
  {
   "cell_type": "code",
   "execution_count": 28,
   "id": "7525079d",
   "metadata": {},
   "outputs": [],
   "source": [
    "def get_and_render_prompt_chat2(text):\n",
    "    messages = [\n",
    "        {\n",
    "            \"role\": \"system\",\n",
    "            \"content\": \"\"\"\n",
    "            You're a colors palette generator assistant who must do your task without adding any comments or notes. \n",
    "            You'll generate color palettes that match the given theme, mood, or instructions. \n",
    "            You'll avoid duplicating color code or color name within the same response, but you can generate a new palette even if it is the same input.\n",
    "            You must keep the palette size between 2 to 8 colors.\n",
    "            You must return a JSON array, where each element follows this format: {\"code\": <color_code>, \"name\": <color_name>}\n",
    "            If you recieve the same input, try generate a new colors palette again.\n",
    "            If you recieve an empty input, just ramdomly generate a new beautiful colors palette.\n",
    "            \"\"\"\n",
    "        },\n",
    "        {\n",
    "            \"role\": \"user\",\n",
    "            \"content\": \"Generate a color palette for: ocean breeze\"\n",
    "        },\n",
    "        {\n",
    "            \"role\": \"assistant\",\n",
    "            \"content\": \"\"\"\n",
    "            [\n",
    "              {\"code\": \"#4ECDC4\", \"name\": \"Turquoise\"},\n",
    "              {\"code\": \"#F7FFF7\", \"name\": \"Mint Cream\"},\n",
    "              {\"code\": \"#9BC1BC\", \"name\": \"Opal\"},\n",
    "              {\"code\": \"#5D5C61\", \"name\": \"Slate Gray\"}\n",
    "            ]\n",
    "            \"\"\"\n",
    "        },\n",
    "        {\n",
    "            \"role\": \"user\",\n",
    "            \"content\": f\"Generate a color palette for: {text}\"\n",
    "        },\n",
    "    ]\n",
    "\n",
    "    completion = openai.ChatCompletion.create(\n",
    "            model=\"gpt-3.5-turbo\",\n",
    "            messages=messages,\n",
    "            max_tokens=500,\n",
    "            top_p=0.5,\n",
    "            frequency_penalty=0,\n",
    "            presence_penalty=0\n",
    "        )\n",
    "    result = completion.choices[0].message.content\n",
    "    print(result)\n",
    "    print(\"-----\")\n",
    "    print(completion)\n",
    "\n",
    "    palette = json.loads(result)\n",
    "    print(palette)\n",
    "    \n",
    "    display_colors2(palette)\n",
    "    "
   ]
  },
  {
   "cell_type": "code",
   "execution_count": 29,
   "id": "80a38c39",
   "metadata": {},
   "outputs": [],
   "source": [
    "### 5th Prompt (GPT-3.5)"
   ]
  },
  {
   "cell_type": "code",
   "execution_count": 30,
   "id": "7203e9f0",
   "metadata": {},
   "outputs": [],
   "source": [
    "def get_and_render_prompt_chat3(text):\n",
    "    messages = [\n",
    "        {\n",
    "            \"role\": \"system\",\n",
    "            \"content\": \"\"\"\n",
    "            You're Color Palette Generator. \n",
    "            You'll generate color palettes that match the given theme, mood, or instructions. \n",
    "            You'll avoid duplicating colors and names within the same palette. \n",
    "            You'll keep the palette size between 2 to 8 colors.\n",
    "            \"\"\"\n",
    "        },\n",
    "        {\n",
    "            \"role\": \"user\",\n",
    "            \"content\": \"Generate a color palette for: ocean breeze\"\n",
    "        },\n",
    "        {\n",
    "            \"role\": \"assistant\",\n",
    "            \"content\": \"\"\"\n",
    "            [\n",
    "                {\"code\": \"#4ECDC4\", \"name\": \"Turquoise\"},\n",
    "                {\"code\": \"#F7FFF7\", \"name\": \"Mint Cream\"},\n",
    "                {\"code\": \"#9BC1BC\", \"name\": \"Opal\"},\n",
    "                {\"code\": \"#5D5C61\", \"name\": \"Slate Gray\"}\n",
    "            ]\n",
    "            \"\"\"\n",
    "        },\n",
    "        {\n",
    "            \"role\": \"user\",\n",
    "            \"content\": \"Generate a color palette for: thailand flag\"\n",
    "        },\n",
    "        {\n",
    "            \"role\": \"assistant\",\n",
    "            \"content\": \"\"\"\n",
    "            [\n",
    "                {\"code\": \"#FF0000\", \"name\": \"Red\"},\n",
    "                {\"code\": \"#FFFFFF\", \"name\": \"White\"},\n",
    "                {\"code\": \"#0072C6\", \"name\": \"Cerulean Blue\"}\n",
    "            ]\n",
    "            \"\"\"\n",
    "        },\n",
    "        {\n",
    "            \"role\": \"user\",\n",
    "            \"content\": f\"Generate a color palette for: {text}\"\n",
    "        },\n",
    "    ]\n",
    "\n",
    "    completion = openai.ChatCompletion.create(\n",
    "            model=\"gpt-3.5-turbo\",\n",
    "            messages=messages,\n",
    "            max_tokens=500,\n",
    "            top_p=0.5,\n",
    "            frequency_penalty=0,\n",
    "            presence_penalty=0\n",
    "        )\n",
    "    result = completion.choices[0].message.content\n",
    "    print(result)\n",
    "    print(\"-----\")\n",
    "    print(completion)\n",
    "\n",
    "    palette = json.loads(result)\n",
    "    print(palette)\n",
    "    \n",
    "    display_colors2(palette)\n",
    "    "
   ]
  },
  {
   "cell_type": "markdown",
   "id": "b188a4f5",
   "metadata": {},
   "source": [
    "## Insert Your Input"
   ]
  },
  {
   "cell_type": "code",
   "execution_count": 31,
   "id": "0af966fa",
   "metadata": {},
   "outputs": [],
   "source": [
    "get_and_render_prompt2(\"ocean breeze\")"
   ]
  },
  {
   "cell_type": "code",
   "execution_count": 32,
   "id": "38ff5fad",
   "metadata": {
    "scrolled": true
   },
   "outputs": [],
   "source": [
    "get_and_render_prompt_chat1(\"foresta\")"
   ]
  },
  {
   "cell_type": "code",
   "execution_count": 33,
   "id": "0d50d2c9",
   "metadata": {},
   "outputs": [],
   "source": [
    "get_and_render_prompt_chat3(\"foresta\")"
   ]
  },
  {
   "cell_type": "code",
   "execution_count": null,
   "id": "1d162d44",
   "metadata": {},
   "outputs": [],
   "source": []
  }
 ],
 "metadata": {
  "kernelspec": {
   "display_name": "Python 3 (ipykernel)",
   "language": "python",
   "name": "python3"
  },
  "language_info": {
   "codemirror_mode": {
    "name": "ipython",
    "version": 3
   },
   "file_extension": ".py",
   "mimetype": "text/x-python",
   "name": "python",
   "nbconvert_exporter": "python",
   "pygments_lexer": "ipython3",
   "version": "3.11.3"
  }
 },
 "nbformat": 4,
 "nbformat_minor": 5
}
