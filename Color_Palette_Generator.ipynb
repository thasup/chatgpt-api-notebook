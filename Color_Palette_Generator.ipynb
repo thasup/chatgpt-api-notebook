{
 "cells": [
  {
   "cell_type": "markdown",
   "id": "ae0c4288",
   "metadata": {},
   "source": [
    "## Install OpenAI Library"
   ]
  },
  {
   "cell_type": "code",
   "execution_count": 9,
   "id": "209d57e6",
   "metadata": {},
   "outputs": [
    {
     "name": "stdout",
     "output_type": "stream",
     "text": [
      "Requirement already satisfied: openai in /Library/Frameworks/Python.framework/Versions/3.11/lib/python3.11/site-packages (0.27.6)\n",
      "Requirement already satisfied: requests>=2.20 in /Library/Frameworks/Python.framework/Versions/3.11/lib/python3.11/site-packages (from openai) (2.29.0)\n",
      "Requirement already satisfied: tqdm in /Library/Frameworks/Python.framework/Versions/3.11/lib/python3.11/site-packages (from openai) (4.65.0)\n",
      "Requirement already satisfied: aiohttp in /Library/Frameworks/Python.framework/Versions/3.11/lib/python3.11/site-packages (from openai) (3.8.4)\n",
      "Requirement already satisfied: charset-normalizer<4,>=2 in /Library/Frameworks/Python.framework/Versions/3.11/lib/python3.11/site-packages (from requests>=2.20->openai) (3.1.0)\n",
      "Requirement already satisfied: idna<4,>=2.5 in /Library/Frameworks/Python.framework/Versions/3.11/lib/python3.11/site-packages (from requests>=2.20->openai) (3.4)\n",
      "Requirement already satisfied: urllib3<1.27,>=1.21.1 in /Library/Frameworks/Python.framework/Versions/3.11/lib/python3.11/site-packages (from requests>=2.20->openai) (1.26.15)\n",
      "Requirement already satisfied: certifi>=2017.4.17 in /Library/Frameworks/Python.framework/Versions/3.11/lib/python3.11/site-packages (from requests>=2.20->openai) (2022.12.7)\n",
      "Requirement already satisfied: attrs>=17.3.0 in /Library/Frameworks/Python.framework/Versions/3.11/lib/python3.11/site-packages (from aiohttp->openai) (23.1.0)\n",
      "Requirement already satisfied: multidict<7.0,>=4.5 in /Library/Frameworks/Python.framework/Versions/3.11/lib/python3.11/site-packages (from aiohttp->openai) (6.0.4)\n",
      "Requirement already satisfied: async-timeout<5.0,>=4.0.0a3 in /Library/Frameworks/Python.framework/Versions/3.11/lib/python3.11/site-packages (from aiohttp->openai) (4.0.2)\n",
      "Requirement already satisfied: yarl<2.0,>=1.0 in /Library/Frameworks/Python.framework/Versions/3.11/lib/python3.11/site-packages (from aiohttp->openai) (1.9.2)\n",
      "Requirement already satisfied: frozenlist>=1.1.1 in /Library/Frameworks/Python.framework/Versions/3.11/lib/python3.11/site-packages (from aiohttp->openai) (1.3.3)\n",
      "Requirement already satisfied: aiosignal>=1.1.2 in /Library/Frameworks/Python.framework/Versions/3.11/lib/python3.11/site-packages (from aiohttp->openai) (1.3.1)\n",
      "\n",
      "\u001b[1m[\u001b[0m\u001b[34;49mnotice\u001b[0m\u001b[1;39;49m]\u001b[0m\u001b[39;49m A new release of pip available: \u001b[0m\u001b[31;49m22.3.1\u001b[0m\u001b[39;49m -> \u001b[0m\u001b[32;49m23.1.2\u001b[0m\n",
      "\u001b[1m[\u001b[0m\u001b[34;49mnotice\u001b[0m\u001b[1;39;49m]\u001b[0m\u001b[39;49m To update, run: \u001b[0m\u001b[32;49mpip3 install --upgrade pip\u001b[0m\n",
      "Note: you may need to restart the kernel to use updated packages.\n"
     ]
    }
   ],
   "source": [
    "pip install openai"
   ]
  },
  {
   "cell_type": "code",
   "execution_count": 10,
   "id": "961a22ae",
   "metadata": {},
   "outputs": [
    {
     "name": "stdout",
     "output_type": "stream",
     "text": [
      "Requirement already satisfied: python-dotenv in /Library/Frameworks/Python.framework/Versions/3.11/lib/python3.11/site-packages (1.0.0)\n",
      "\n",
      "\u001b[1m[\u001b[0m\u001b[34;49mnotice\u001b[0m\u001b[1;39;49m]\u001b[0m\u001b[39;49m A new release of pip available: \u001b[0m\u001b[31;49m22.3.1\u001b[0m\u001b[39;49m -> \u001b[0m\u001b[32;49m23.1.2\u001b[0m\n",
      "\u001b[1m[\u001b[0m\u001b[34;49mnotice\u001b[0m\u001b[1;39;49m]\u001b[0m\u001b[39;49m To update, run: \u001b[0m\u001b[32;49mpip3 install --upgrade pip\u001b[0m\n",
      "Note: you may need to restart the kernel to use updated packages.\n"
     ]
    }
   ],
   "source": [
    "pip install python-dotenv"
   ]
  },
  {
   "cell_type": "markdown",
   "id": "b2158021",
   "metadata": {},
   "source": [
    "## Import Library"
   ]
  },
  {
   "cell_type": "code",
   "execution_count": 11,
   "id": "f325b4ea",
   "metadata": {},
   "outputs": [],
   "source": [
    "import openai\n",
    "import json\n",
    "from dotenv import dotenv_values\n",
    "config = dotenv_values(\".env\")"
   ]
  },
  {
   "cell_type": "markdown",
   "id": "abdb5fa4",
   "metadata": {},
   "source": [
    "## Add API key"
   ]
  },
  {
   "cell_type": "code",
   "execution_count": 12,
   "id": "dca316bd",
   "metadata": {},
   "outputs": [],
   "source": [
    "openai.api_key  = config[\"OPENAI_API_KEY\"]"
   ]
  },
  {
   "cell_type": "markdown",
   "id": "4316d4a9",
   "metadata": {},
   "source": [
    "## Declare Functions"
   ]
  },
  {
   "cell_type": "code",
   "execution_count": 13,
   "id": "9fa05abd",
   "metadata": {},
   "outputs": [],
   "source": [
    "from IPython.display import Markdown, display\n",
    "\n",
    "def display_colors(colors):\n",
    "    display(Markdown(\" \".join(\n",
    "        f'<span style=\"color: {color}\">{chr(9608) * 5}</span>'\n",
    "        for color in colors\n",
    "    )))"
   ]
  },
  {
   "cell_type": "markdown",
   "id": "856f957e",
   "metadata": {},
   "source": [
    "### 1st Prompt"
   ]
  },
  {
   "cell_type": "code",
   "execution_count": 112,
   "id": "575dc739",
   "metadata": {},
   "outputs": [],
   "source": [
    "def get_and_render_prompt(text):\n",
    "    message=f\"\"\"\n",
    "    You are a color palette generating assistant that responds to text prompt for color palettes.\n",
    "    You should generate color palettes that fit the theme, mood, tone, or instructions in the prompt.\n",
    "    \n",
    "    Key Guidelines:\n",
    "    - Avoid duplicating colors code and name within the same palette.\n",
    "    - Keep the palettes within a range of 2 to 8 colors.\n",
    "    - Use a JSON array to represent the color palettes, with each color code in hexadecimal format.\n",
    "    \n",
    "    Examples:\n",
    "    - Q: Convert the following verbal description of a color palette into a list of colors: google brand\n",
    "      A: [\"#4285f4\", \"#34a853\", \"#fbbc05\", \"#ea4335\"]\n",
    "\n",
    "    - Q: Convert the following verbal description of a color palette into a list of colors: midnight pastels\n",
    "      A: [\"#B27DFA\", \"#6C5DC7\", \"#3E4AB0\", \"#2C3E8C\", \"#182F61\", \"#0B1E3E\", \"#080620\"]\n",
    "\n",
    "    Desired Format:\n",
    "      - a JSON array of hexadecimal color codes\n",
    "\n",
    "    Prompt: {text}\n",
    "    Result:\n",
    "    \"\"\"\n",
    "\n",
    "    completion = openai.Completion.create(\n",
    "            model=\"text-davinci-003\",\n",
    "            prompt=message,\n",
    "            max_tokens=100,\n",
    "            temperature=0.8,\n",
    "        )\n",
    "    print(completion.choices[0].text)\n",
    "    print(\"-----\")\n",
    "    print(completion)\n",
    "\n",
    "    colors = json.loads(completion.choices[0].text.strip())\n",
    "    display_colors(colors)"
   ]
  },
  {
   "cell_type": "markdown",
   "id": "d33cfd23",
   "metadata": {},
   "source": [
    "### 2nd Prompt"
   ]
  },
  {
   "cell_type": "code",
   "execution_count": 14,
   "id": "23585944",
   "metadata": {},
   "outputs": [],
   "source": [
    "def get_and_render_prompt(text):\n",
    "    message=f\"\"\"\n",
    "    Color Palette Generator\n",
    "\n",
    "    Generate color palettes that match the given theme, mood, or instructions.\n",
    "\n",
    "    Instructions:\n",
    "    - Provide a verbal description of the color palette you want.\n",
    "    - Avoid duplicating colors within the same palette.\n",
    "    - Keep the palette size between 2 to 8 colors.\n",
    "\n",
    "    Example Usage:\n",
    "    - Instruction: Generate a color palette for a Google brand.\n",
    "    - Output:\"[\"#4285f4\", \"#34a853\", \"#fbbc05\", \"#ea4335\"],[\"Google Blue\", \"Google Green\", \"Google Yellow\", \"Google Red\"]\"\n",
    "\n",
    "    - Instruction: Generate a color palette for ocean pastels color palette.\n",
    "    - Output:\"[\"#83ADFC\", \"#53CBED\", \"#22D9DB\", \"#14D59C\", \"#0EC36F\", \"#2EAC8D\", \"#2A8FBC\"], [\"Sky Blue\", \"Light Blue\", \"Turquoise\", \"Mint Green\", \"Emerald Green\", \"Teal\", \"Navy Blue\"]\"\n",
    "\n",
    "    Desired Response JSON Format:\"[\"#color1\", \"#color2\", ...], [\"name1\", \"name2\", ...]\"\n",
    "\n",
    "    Instruction: Generate a color palette for {text}\n",
    "\n",
    "    Result:\n",
    "    \"\"\"\n",
    "\n",
    "    completion = openai.Completion.create(\n",
    "            model=\"text-davinci-003\",\n",
    "            prompt=message,\n",
    "            max_tokens=256,\n",
    "            top_p=0.5,\n",
    "            frequency_penalty=0,\n",
    "            presence_penalty=0\n",
    "        )\n",
    "    print(completion.choices[0].text)\n",
    "    print(\"-----\")\n",
    "    print(completion)\n",
    "\n",
    "    result = completion.choices[0].text\n",
    "    \n",
    "    colors, names = result.split(\"], [\")\n",
    "\n",
    "    colors = f\"\"\"{colors}]\"\"\"\n",
    "    names = f\"\"\"[{names}\"\"\"\n",
    "    \n",
    "    print(colors)\n",
    "    print(names)\n",
    "    \n",
    "    colors = json.loads(colors)\n",
    "    names = json.loads(names)\n",
    "    \n",
    "    display_colors(colors)"
   ]
  },
  {
   "cell_type": "markdown",
   "id": "b188a4f5",
   "metadata": {},
   "source": [
    "## Insert Your Input"
   ]
  },
  {
   "cell_type": "code",
   "execution_count": 15,
   "id": "0af966fa",
   "metadata": {},
   "outputs": [
    {
     "name": "stdout",
     "output_type": "stream",
     "text": [
      " [\"#0A4A2A\", \"#0E6C48\", \"#0F936E\", \"#5BB07F\", \"#A3D08F\", \"#E7F3A2\"], [\"Dark Green\", \"Medium Green\", \"Light Green\", \"Mint Green\", \"Pale Green\", \"Pale Yellow\"]\n",
      "-----\n",
      "{\n",
      "  \"choices\": [\n",
      "    {\n",
      "      \"finish_reason\": \"stop\",\n",
      "      \"index\": 0,\n",
      "      \"logprobs\": null,\n",
      "      \"text\": \" [\\\"#0A4A2A\\\", \\\"#0E6C48\\\", \\\"#0F936E\\\", \\\"#5BB07F\\\", \\\"#A3D08F\\\", \\\"#E7F3A2\\\"], [\\\"Dark Green\\\", \\\"Medium Green\\\", \\\"Light Green\\\", \\\"Mint Green\\\", \\\"Pale Green\\\", \\\"Pale Yellow\\\"]\"\n",
      "    }\n",
      "  ],\n",
      "  \"created\": 1684758513,\n",
      "  \"id\": \"cmpl-7IywLIskT4V4Lzv9SFElQehFKOtoj\",\n",
      "  \"model\": \"text-davinci-003\",\n",
      "  \"object\": \"text_completion\",\n",
      "  \"usage\": {\n",
      "    \"completion_tokens\": 71,\n",
      "    \"prompt_tokens\": 278,\n",
      "    \"total_tokens\": 349\n",
      "  }\n",
      "}\n",
      " [\"#0A4A2A\", \"#0E6C48\", \"#0F936E\", \"#5BB07F\", \"#A3D08F\", \"#E7F3A2\"]\n",
      "[\"Dark Green\", \"Medium Green\", \"Light Green\", \"Mint Green\", \"Pale Green\", \"Pale Yellow\"]\n"
     ]
    },
    {
     "data": {
      "text/markdown": [
       "<span style=\"color: #0A4A2A\">█████</span> <span style=\"color: #0E6C48\">█████</span> <span style=\"color: #0F936E\">█████</span> <span style=\"color: #5BB07F\">█████</span> <span style=\"color: #A3D08F\">█████</span> <span style=\"color: #E7F3A2\">█████</span>"
      ],
      "text/plain": [
       "<IPython.core.display.Markdown object>"
      ]
     },
     "metadata": {},
     "output_type": "display_data"
    }
   ],
   "source": [
    "get_and_render_prompt(\"foresta\")"
   ]
  },
  {
   "cell_type": "code",
   "execution_count": 123,
   "id": "38ff5fad",
   "metadata": {},
   "outputs": [
    {
     "ename": "NameError",
     "evalue": "name 'result' is not defined",
     "output_type": "error",
     "traceback": [
      "\u001b[0;31m---------------------------------------------------------------------------\u001b[0m",
      "\u001b[0;31mNameError\u001b[0m                                 Traceback (most recent call last)",
      "Cell \u001b[0;32mIn[123], line 1\u001b[0m\n\u001b[0;32m----> 1\u001b[0m \u001b[43mresult\u001b[49m\u001b[38;5;241m.\u001b[39mcolors[\u001b[38;5;241m0\u001b[39m]\n",
      "\u001b[0;31mNameError\u001b[0m: name 'result' is not defined"
     ]
    }
   ],
   "source": [
    "result.colors[0]"
   ]
  },
  {
   "cell_type": "code",
   "execution_count": null,
   "id": "816f1293",
   "metadata": {},
   "outputs": [],
   "source": []
  }
 ],
 "metadata": {
  "kernelspec": {
   "display_name": "Python 3 (ipykernel)",
   "language": "python",
   "name": "python3"
  },
  "language_info": {
   "codemirror_mode": {
    "name": "ipython",
    "version": 3
   },
   "file_extension": ".py",
   "mimetype": "text/x-python",
   "name": "python",
   "nbconvert_exporter": "python",
   "pygments_lexer": "ipython3",
   "version": "3.11.3"
  }
 },
 "nbformat": 4,
 "nbformat_minor": 5
}
