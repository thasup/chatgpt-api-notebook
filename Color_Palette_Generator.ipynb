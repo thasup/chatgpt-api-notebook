{
 "cells": [
  {
   "cell_type": "markdown",
   "id": "ae0c4288",
   "metadata": {},
   "source": [
    "## Install OpenAI Library"
   ]
  },
  {
   "cell_type": "code",
   "execution_count": 1,
   "id": "209d57e6",
   "metadata": {},
   "outputs": [
    {
     "name": "stdout",
     "output_type": "stream",
     "text": [
      "Requirement already satisfied: openai in /Library/Frameworks/Python.framework/Versions/3.11/lib/python3.11/site-packages (0.27.7)\n",
      "Requirement already satisfied: requests>=2.20 in /Library/Frameworks/Python.framework/Versions/3.11/lib/python3.11/site-packages (from openai) (2.30.0)\n",
      "Requirement already satisfied: tqdm in /Library/Frameworks/Python.framework/Versions/3.11/lib/python3.11/site-packages (from openai) (4.65.0)\n",
      "Requirement already satisfied: aiohttp in /Library/Frameworks/Python.framework/Versions/3.11/lib/python3.11/site-packages (from openai) (3.8.4)\n",
      "Requirement already satisfied: charset-normalizer<4,>=2 in /Library/Frameworks/Python.framework/Versions/3.11/lib/python3.11/site-packages (from requests>=2.20->openai) (3.1.0)\n",
      "Requirement already satisfied: idna<4,>=2.5 in /Library/Frameworks/Python.framework/Versions/3.11/lib/python3.11/site-packages (from requests>=2.20->openai) (3.4)\n",
      "Requirement already satisfied: urllib3<3,>=1.21.1 in /Library/Frameworks/Python.framework/Versions/3.11/lib/python3.11/site-packages (from requests>=2.20->openai) (2.0.2)\n",
      "Requirement already satisfied: certifi>=2017.4.17 in /Library/Frameworks/Python.framework/Versions/3.11/lib/python3.11/site-packages (from requests>=2.20->openai) (2023.5.7)\n",
      "Requirement already satisfied: attrs>=17.3.0 in /Library/Frameworks/Python.framework/Versions/3.11/lib/python3.11/site-packages (from aiohttp->openai) (23.1.0)\n",
      "Requirement already satisfied: multidict<7.0,>=4.5 in /Library/Frameworks/Python.framework/Versions/3.11/lib/python3.11/site-packages (from aiohttp->openai) (6.0.4)\n",
      "Requirement already satisfied: async-timeout<5.0,>=4.0.0a3 in /Library/Frameworks/Python.framework/Versions/3.11/lib/python3.11/site-packages (from aiohttp->openai) (4.0.2)\n",
      "Requirement already satisfied: yarl<2.0,>=1.0 in /Library/Frameworks/Python.framework/Versions/3.11/lib/python3.11/site-packages (from aiohttp->openai) (1.9.2)\n",
      "Requirement already satisfied: frozenlist>=1.1.1 in /Library/Frameworks/Python.framework/Versions/3.11/lib/python3.11/site-packages (from aiohttp->openai) (1.3.3)\n",
      "Requirement already satisfied: aiosignal>=1.1.2 in /Library/Frameworks/Python.framework/Versions/3.11/lib/python3.11/site-packages (from aiohttp->openai) (1.3.1)\n",
      "Note: you may need to restart the kernel to use updated packages.\n"
     ]
    }
   ],
   "source": [
    "pip install openai"
   ]
  },
  {
   "cell_type": "code",
   "execution_count": 2,
   "id": "961a22ae",
   "metadata": {},
   "outputs": [
    {
     "name": "stdout",
     "output_type": "stream",
     "text": [
      "Requirement already satisfied: python-dotenv in /Library/Frameworks/Python.framework/Versions/3.11/lib/python3.11/site-packages (0.21.0)\n",
      "Note: you may need to restart the kernel to use updated packages.\n"
     ]
    }
   ],
   "source": [
    "pip install python-dotenv"
   ]
  },
  {
   "cell_type": "markdown",
   "id": "b2158021",
   "metadata": {},
   "source": [
    "## Import Library"
   ]
  },
  {
   "cell_type": "code",
   "execution_count": 3,
   "id": "f325b4ea",
   "metadata": {},
   "outputs": [],
   "source": [
    "import openai\n",
    "import json\n",
    "from dotenv import dotenv_values\n",
    "config = dotenv_values(\".env\")"
   ]
  },
  {
   "cell_type": "markdown",
   "id": "abdb5fa4",
   "metadata": {},
   "source": [
    "## Add API key"
   ]
  },
  {
   "cell_type": "code",
   "execution_count": 4,
   "id": "dca316bd",
   "metadata": {},
   "outputs": [],
   "source": [
    "openai.api_key  = config[\"OPENAI_API_KEY\"]"
   ]
  },
  {
   "cell_type": "markdown",
   "id": "4316d4a9",
   "metadata": {},
   "source": [
    "## Declare Functions"
   ]
  },
  {
   "cell_type": "code",
   "execution_count": 5,
   "id": "9fa05abd",
   "metadata": {},
   "outputs": [],
   "source": [
    "from IPython.display import Markdown, display\n",
    "\n",
    "def display_colors1(colors, names):\n",
    "    display(Markdown(\" \".join(\n",
    "        f'<div style=\"color: {color}\">{name}: {chr(9608) * 5}</div>'\n",
    "        for color, name in zip(colors, names)\n",
    "    )))\n",
    "    \n",
    "# def display_colors2(colors):\n",
    "#     display(Markdown(\" \".join(\n",
    "#         f'<div style=\"color: {color.code}\">{color.name}: {chr(9608) * 5}</div>'\n",
    "#         for color in colors\n",
    "#     )))\n",
    "    \n",
    "def display_colors2(colors):\n",
    "    display(Markdown(\" \".join(\n",
    "        f'<div style=\"color: {color[\"code\"]}\">{color[\"name\"]}: {chr(9608) * 5}</div>'\n",
    "        for color in colors\n",
    "    )))\n"
   ]
  },
  {
   "cell_type": "markdown",
   "id": "856f957e",
   "metadata": {},
   "source": [
    "### 1st Prompt (GPT-3)"
   ]
  },
  {
   "cell_type": "code",
   "execution_count": 15,
   "id": "575dc739",
   "metadata": {},
   "outputs": [],
   "source": [
    "def get_and_render_prompt1(text):\n",
    "    message=f\"\"\"\n",
    "    You are a color palette generating assistant that responds to text prompt for color palettes.\n",
    "    You should generate color palettes that fit the theme, mood, tone, or instructions in the prompt.\n",
    "    \n",
    "    Key Guidelines:\n",
    "    - Avoid duplicating colors code and name within the same palette.\n",
    "    - Keep the palettes within a range of 2 to 8 colors.\n",
    "    - Use a JSON array to represent the color palettes, with each color code in hexadecimal format.\n",
    "    \n",
    "    Examples:\n",
    "    - Q: Convert the following verbal description of a color palette into a list of colors: google brand\n",
    "      A: [\"#4285f4\", \"#34a853\", \"#fbbc05\", \"#ea4335\"]\n",
    "\n",
    "    - Q: Convert the following verbal description of a color palette into a list of colors: midnight pastels\n",
    "      A: [\"#B27DFA\", \"#6C5DC7\", \"#3E4AB0\", \"#2C3E8C\", \"#182F61\", \"#0B1E3E\", \"#080620\"]\n",
    "\n",
    "    Desired Format:\n",
    "      - a JSON array of hexadecimal color codes\n",
    "\n",
    "    Prompt: {text}\n",
    "    Result:\n",
    "    \"\"\"\n",
    "\n",
    "    completion = openai.Completion.create(\n",
    "            model=\"text-davinci-003\",\n",
    "            prompt=message,\n",
    "            max_tokens=100,\n",
    "            temperature=0.8,\n",
    "        )\n",
    "    print(completion.choices[0].text)\n",
    "    print(\"-----\")\n",
    "    print(completion)\n",
    "\n",
    "    colors = json.loads(completion.choices[0].text.strip())\n",
    "    display_colors1(colors)"
   ]
  },
  {
   "cell_type": "markdown",
   "id": "d33cfd23",
   "metadata": {},
   "source": [
    "### 2nd Prompt (GPT-3)"
   ]
  },
  {
   "cell_type": "code",
   "execution_count": 7,
   "id": "23585944",
   "metadata": {},
   "outputs": [],
   "source": [
    "def get_and_render_prompt2(text):\n",
    "    message=f\"\"\"\n",
    "    Color Palette Generator\n",
    "\n",
    "    Generate color palettes that match the given theme, mood, or instructions.\n",
    "\n",
    "    Instructions:\n",
    "    - Provide a verbal description of the color palette you want.\n",
    "    - Avoid duplicating colors within the same palette.\n",
    "    - Keep the palette size between 2 to 8 colors.\n",
    "\n",
    "    Example Usage:\n",
    "    - Instruction: Generate a color palette for a Google brand.\n",
    "    - Output:\"[\"#4285f4\", \"#34a853\", \"#fbbc05\", \"#ea4335\"],[\"Google Blue\", \"Google Green\", \"Google Yellow\", \"Google Red\"]\"\n",
    "\n",
    "    - Instruction: Generate a color palette for ocean pastels color palette.\n",
    "    - Output:\"[\"#83ADFC\", \"#53CBED\", \"#22D9DB\", \"#14D59C\", \"#0EC36F\", \"#2EAC8D\", \"#2A8FBC\"], [\"Sky Blue\", \"Light Blue\", \"Turquoise\", \"Mint Green\", \"Emerald Green\", \"Teal\", \"Navy Blue\"]\"\n",
    "\n",
    "    Desired Response JSON Format:\"[\"#color1\", \"#color2\", ...], [\"name1\", \"name2\", ...]\"\n",
    "\n",
    "    Instruction: Generate a color palette for {text}\n",
    "\n",
    "    Result:\n",
    "    \"\"\"\n",
    "\n",
    "    completion = openai.Completion.create(\n",
    "            model=\"text-davinci-003\",\n",
    "            prompt=message,\n",
    "            max_tokens=256,\n",
    "            top_p=0.5,\n",
    "            frequency_penalty=0,\n",
    "            presence_penalty=0\n",
    "        )\n",
    "    print(completion.choices[0].text)\n",
    "    print(\"-----\")\n",
    "    print(completion)\n",
    "\n",
    "    result = completion.choices[0].text\n",
    "    \n",
    "    colors, names = result.split(\"], [\")\n",
    "\n",
    "    colors = f\"\"\"{colors}]\"\"\"\n",
    "    names = f\"\"\"[{names}\"\"\"\n",
    "    \n",
    "    print(colors)\n",
    "    print(names)\n",
    "    \n",
    "    colors = json.loads(colors)\n",
    "    names = json.loads(names)\n",
    "    \n",
    "    display_colors1(colors, names)"
   ]
  },
  {
   "cell_type": "markdown",
   "id": "6bff45c0",
   "metadata": {},
   "source": [
    "### 3rd Prompt (GPT-3.5)"
   ]
  },
  {
   "cell_type": "code",
   "execution_count": 8,
   "id": "8a8290a3",
   "metadata": {},
   "outputs": [],
   "source": [
    "def get_and_render_prompt_chat1(text):\n",
    "    messages = [\n",
    "        {\n",
    "            \"role\": \"system\",\n",
    "            \"content\": \"\"\"\n",
    "            You're Color Palette Generator. \n",
    "            You'll generate color palettes that match the given theme, mood, or instructions. \n",
    "            You'll avoid duplicating colors and names within the same palette. \n",
    "            You'll keep the palette size between 2 to 8 colors.\n",
    "            \"\"\"\n",
    "        },\n",
    "        {\n",
    "            \"role\": \"user\",\n",
    "            \"content\": \"Generate a color palette for a Google brand.\"\n",
    "        },\n",
    "        {\n",
    "            \"role\": \"assistant\",\n",
    "            \"content\": '[\"#4285f4\", \"#34a853\", \"#fbbc05\", \"#ea4335\"], [\"Google Blue\", \"Google Green\", \"Google Yellow\", \"Google Red\"]'\n",
    "        },\n",
    "        {\n",
    "            \"role\": \"user\",\n",
    "            \"content\": \"Generate a color palette for foresta.\"\n",
    "        },\n",
    "        {\n",
    "            \"role\": \"assistant\",\n",
    "            \"content\": '[\"#3F5F6D\", \"#2F4F4F\", \"#1B4F5F\", \"#006633\", \"#009933\", \"#33CC33\", \"#00CC00\"], [\"Midnight Blue\", \"Dark Slate Gray\", \"Dark Turquoise\", \"Forest Green\", \"Jungle Green\", \"Lime Green\", \"Green\"]'\n",
    "        },\n",
    "        {\n",
    "            \"role\": \"user\",\n",
    "            \"content\": f\"Generate a color palette for {text}\"\n",
    "        },\n",
    "    ]\n",
    "\n",
    "    completion = openai.ChatCompletion.create(\n",
    "            model=\"gpt-3.5-turbo\",\n",
    "            messages=messages,\n",
    "            max_tokens=500,\n",
    "            top_p=0.5,\n",
    "            frequency_penalty=0,\n",
    "            presence_penalty=0\n",
    "        )\n",
    "    print(completion.choices[0].message.content)\n",
    "    print(\"-----\")\n",
    "    print(completion)\n",
    "\n",
    "    result = completion.choices[0].message.content.strip()\n",
    "    \n",
    "    colors, names = result.split(\"], [\")\n",
    "\n",
    "    colors = f\"\"\"{colors}]\"\"\"\n",
    "    names = f\"\"\"[{names}\"\"\"\n",
    "    \n",
    "    print(colors)\n",
    "    print(names)\n",
    "    \n",
    "    colors = json.loads(colors)\n",
    "    names = json.loads(names)\n",
    "    \n",
    "    display_colors1(colors, names)"
   ]
  },
  {
   "cell_type": "code",
   "execution_count": 9,
   "id": "074bc07b",
   "metadata": {},
   "outputs": [],
   "source": [
    "### 4th Prompt (GPT-3.5)"
   ]
  },
  {
   "cell_type": "code",
   "execution_count": 10,
   "id": "7525079d",
   "metadata": {},
   "outputs": [],
   "source": [
    "def get_and_render_prompt_chat2(text):\n",
    "    messages = [\n",
    "        {\n",
    "            \"role\": \"system\",\n",
    "            \"content\": \"\"\"\n",
    "            You're a colors palette generator assistant who must do your task without adding any comments or notes. \n",
    "            You'll generate color palettes that match the given theme, mood, or instructions. \n",
    "            You'll avoid duplicating color code or color name within the same response, but you can generate a new palette even if it is the same input.\n",
    "            You must keep the palette size between 2 to 8 colors.\n",
    "            You must return a JSON array, where each element follows this format: {\"code\": <color_code>, \"name\": <color_name>}\n",
    "            If you recieve the same input, try generate a new colors palette again.\n",
    "            If you recieve an empty input, just ramdomly generate a new beautiful colors palette.\n",
    "            \"\"\"\n",
    "        },\n",
    "        {\n",
    "            \"role\": \"user\",\n",
    "            \"content\": \"Generate a color palette for: ocean breeze\"\n",
    "        },\n",
    "        {\n",
    "            \"role\": \"assistant\",\n",
    "            \"content\": \"\"\"\n",
    "            [\n",
    "              {\"code\": \"#4ECDC4\", \"name\": \"Turquoise\"},\n",
    "              {\"code\": \"#F7FFF7\", \"name\": \"Mint Cream\"},\n",
    "              {\"code\": \"#9BC1BC\", \"name\": \"Opal\"},\n",
    "              {\"code\": \"#5D5C61\", \"name\": \"Slate Gray\"}\n",
    "            ]\n",
    "            \"\"\"\n",
    "        },\n",
    "        {\n",
    "            \"role\": \"user\",\n",
    "            \"content\": f\"Generate a color palette for: {text}\"\n",
    "        },\n",
    "    ]\n",
    "\n",
    "    completion = openai.ChatCompletion.create(\n",
    "            model=\"gpt-3.5-turbo\",\n",
    "            messages=messages,\n",
    "            max_tokens=500,\n",
    "            top_p=0.5,\n",
    "            frequency_penalty=0,\n",
    "            presence_penalty=0\n",
    "        )\n",
    "    result = completion.choices[0].message.content\n",
    "    print(result)\n",
    "    print(\"-----\")\n",
    "    print(completion)\n",
    "\n",
    "    palette = json.loads(result)\n",
    "    print(palette)\n",
    "    \n",
    "    display_colors2(palette)\n",
    "    "
   ]
  },
  {
   "cell_type": "markdown",
   "id": "b188a4f5",
   "metadata": {},
   "source": [
    "## Insert Your Input"
   ]
  },
  {
   "cell_type": "code",
   "execution_count": 14,
   "id": "0af966fa",
   "metadata": {},
   "outputs": [
    {
     "name": "stdout",
     "output_type": "stream",
     "text": [
      " [\"#A3DEEA\", \"#56C4E5\", \"#00AFE2\", \"#0094C9\", \"#007AB3\", \"#006099\", \"#004B80\"]\n",
      "-----\n",
      "{\n",
      "  \"choices\": [\n",
      "    {\n",
      "      \"finish_reason\": \"stop\",\n",
      "      \"index\": 0,\n",
      "      \"logprobs\": null,\n",
      "      \"text\": \" [\\\"#A3DEEA\\\", \\\"#56C4E5\\\", \\\"#00AFE2\\\", \\\"#0094C9\\\", \\\"#007AB3\\\", \\\"#006099\\\", \\\"#004B80\\\"]\"\n",
      "    }\n",
      "  ],\n",
      "  \"created\": 1685510675,\n",
      "  \"id\": \"cmpl-7M8bzd14zSk7HVdpjPm2WtgNAOH01\",\n",
      "  \"model\": \"text-davinci-003\",\n",
      "  \"object\": \"text_completion\",\n",
      "  \"usage\": {\n",
      "    \"completion_tokens\": 42,\n",
      "    \"prompt_tokens\": 265,\n",
      "    \"total_tokens\": 307\n",
      "  }\n",
      "}\n"
     ]
    },
    {
     "ename": "TypeError",
     "evalue": "display_colors1() missing 1 required positional argument: 'names'",
     "output_type": "error",
     "traceback": [
      "\u001b[0;31m---------------------------------------------------------------------------\u001b[0m",
      "\u001b[0;31mTypeError\u001b[0m                                 Traceback (most recent call last)",
      "Cell \u001b[0;32mIn[14], line 1\u001b[0m\n\u001b[0;32m----> 1\u001b[0m \u001b[43mget_and_render_prompt1\u001b[49m\u001b[43m(\u001b[49m\u001b[38;5;124;43m\"\u001b[39;49m\u001b[38;5;124;43mocean breeze\u001b[39;49m\u001b[38;5;124;43m\"\u001b[39;49m\u001b[43m)\u001b[49m\n",
      "Cell \u001b[0;32mIn[13], line 36\u001b[0m, in \u001b[0;36mget_and_render_prompt1\u001b[0;34m(text)\u001b[0m\n\u001b[1;32m     33\u001b[0m \u001b[38;5;28mprint\u001b[39m(completion)\n\u001b[1;32m     35\u001b[0m colors \u001b[38;5;241m=\u001b[39m json\u001b[38;5;241m.\u001b[39mloads(completion\u001b[38;5;241m.\u001b[39mchoices[\u001b[38;5;241m0\u001b[39m]\u001b[38;5;241m.\u001b[39mtext\u001b[38;5;241m.\u001b[39mstrip())\n\u001b[0;32m---> 36\u001b[0m \u001b[43mdisplay_colors1\u001b[49m\u001b[43m(\u001b[49m\u001b[43mcolors\u001b[49m\u001b[43m)\u001b[49m\n",
      "\u001b[0;31mTypeError\u001b[0m: display_colors1() missing 1 required positional argument: 'names'"
     ]
    }
   ],
   "source": [
    "get_and_render_prompt1(\"ocean breeze\")"
   ]
  },
  {
   "cell_type": "code",
   "execution_count": 12,
   "id": "38ff5fad",
   "metadata": {
    "scrolled": true
   },
   "outputs": [
    {
     "name": "stdout",
     "output_type": "stream",
     "text": [
      "            [\n",
      "              {\"code\": \"#228B22\", \"name\": \"Forest Green\"},\n",
      "              {\"code\": \"#8F9779\", \"name\": \"Camouflage Green\"},\n",
      "              {\"code\": \"#BDB76B\", \"name\": \"Dark Khaki\"},\n",
      "              {\"code\": \"#FFF8DC\", \"name\": \"Cornsilk\"}\n",
      "            ]\n",
      "             \n",
      "(Note: I generated a new palette since the input was the same as the previous one)\n",
      "-----\n",
      "{\n",
      "  \"choices\": [\n",
      "    {\n",
      "      \"finish_reason\": \"stop\",\n",
      "      \"index\": 0,\n",
      "      \"message\": {\n",
      "        \"content\": \"            [\\n              {\\\"code\\\": \\\"#228B22\\\", \\\"name\\\": \\\"Forest Green\\\"},\\n              {\\\"code\\\": \\\"#8F9779\\\", \\\"name\\\": \\\"Camouflage Green\\\"},\\n              {\\\"code\\\": \\\"#BDB76B\\\", \\\"name\\\": \\\"Dark Khaki\\\"},\\n              {\\\"code\\\": \\\"#FFF8DC\\\", \\\"name\\\": \\\"Cornsilk\\\"}\\n            ]\\n             \\n(Note: I generated a new palette since the input was the same as the previous one)\",\n",
      "        \"role\": \"assistant\"\n",
      "      }\n",
      "    }\n",
      "  ],\n",
      "  \"created\": 1685510494,\n",
      "  \"id\": \"chatcmpl-7M8Z4nwu1QPIoN7uxnYNzWIOGB30F\",\n",
      "  \"model\": \"gpt-3.5-turbo-0301\",\n",
      "  \"object\": \"chat.completion\",\n",
      "  \"usage\": {\n",
      "    \"completion_tokens\": 92,\n",
      "    \"prompt_tokens\": 365,\n",
      "    \"total_tokens\": 457\n",
      "  }\n",
      "}\n"
     ]
    },
    {
     "ename": "JSONDecodeError",
     "evalue": "Extra data: line 8 column 1 (char 275)",
     "output_type": "error",
     "traceback": [
      "\u001b[0;31m---------------------------------------------------------------------------\u001b[0m",
      "\u001b[0;31mJSONDecodeError\u001b[0m                           Traceback (most recent call last)",
      "Cell \u001b[0;32mIn[12], line 1\u001b[0m\n\u001b[0;32m----> 1\u001b[0m \u001b[43mget_and_render_prompt_chat2\u001b[49m\u001b[43m(\u001b[49m\u001b[38;5;124;43m\"\u001b[39;49m\u001b[38;5;124;43mforesta\u001b[39;49m\u001b[38;5;124;43m\"\u001b[39;49m\u001b[43m)\u001b[49m\n",
      "Cell \u001b[0;32mIn[10], line 64\u001b[0m, in \u001b[0;36mget_and_render_prompt_chat2\u001b[0;34m(text)\u001b[0m\n\u001b[1;32m     61\u001b[0m \u001b[38;5;28mprint\u001b[39m(\u001b[38;5;124m\"\u001b[39m\u001b[38;5;124m-----\u001b[39m\u001b[38;5;124m\"\u001b[39m)\n\u001b[1;32m     62\u001b[0m \u001b[38;5;28mprint\u001b[39m(completion)\n\u001b[0;32m---> 64\u001b[0m palette \u001b[38;5;241m=\u001b[39m \u001b[43mjson\u001b[49m\u001b[38;5;241;43m.\u001b[39;49m\u001b[43mloads\u001b[49m\u001b[43m(\u001b[49m\u001b[43mresult\u001b[49m\u001b[43m)\u001b[49m\n\u001b[1;32m     65\u001b[0m \u001b[38;5;28mprint\u001b[39m(palette)\n\u001b[1;32m     67\u001b[0m display_colors2(palette)\n",
      "File \u001b[0;32m/Library/Frameworks/Python.framework/Versions/3.11/lib/python3.11/json/__init__.py:346\u001b[0m, in \u001b[0;36mloads\u001b[0;34m(s, cls, object_hook, parse_float, parse_int, parse_constant, object_pairs_hook, **kw)\u001b[0m\n\u001b[1;32m    341\u001b[0m     s \u001b[38;5;241m=\u001b[39m s\u001b[38;5;241m.\u001b[39mdecode(detect_encoding(s), \u001b[38;5;124m'\u001b[39m\u001b[38;5;124msurrogatepass\u001b[39m\u001b[38;5;124m'\u001b[39m)\n\u001b[1;32m    343\u001b[0m \u001b[38;5;28;01mif\u001b[39;00m (\u001b[38;5;28mcls\u001b[39m \u001b[38;5;129;01mis\u001b[39;00m \u001b[38;5;28;01mNone\u001b[39;00m \u001b[38;5;129;01mand\u001b[39;00m object_hook \u001b[38;5;129;01mis\u001b[39;00m \u001b[38;5;28;01mNone\u001b[39;00m \u001b[38;5;129;01mand\u001b[39;00m\n\u001b[1;32m    344\u001b[0m         parse_int \u001b[38;5;129;01mis\u001b[39;00m \u001b[38;5;28;01mNone\u001b[39;00m \u001b[38;5;129;01mand\u001b[39;00m parse_float \u001b[38;5;129;01mis\u001b[39;00m \u001b[38;5;28;01mNone\u001b[39;00m \u001b[38;5;129;01mand\u001b[39;00m\n\u001b[1;32m    345\u001b[0m         parse_constant \u001b[38;5;129;01mis\u001b[39;00m \u001b[38;5;28;01mNone\u001b[39;00m \u001b[38;5;129;01mand\u001b[39;00m object_pairs_hook \u001b[38;5;129;01mis\u001b[39;00m \u001b[38;5;28;01mNone\u001b[39;00m \u001b[38;5;129;01mand\u001b[39;00m \u001b[38;5;129;01mnot\u001b[39;00m kw):\n\u001b[0;32m--> 346\u001b[0m     \u001b[38;5;28;01mreturn\u001b[39;00m \u001b[43m_default_decoder\u001b[49m\u001b[38;5;241;43m.\u001b[39;49m\u001b[43mdecode\u001b[49m\u001b[43m(\u001b[49m\u001b[43ms\u001b[49m\u001b[43m)\u001b[49m\n\u001b[1;32m    347\u001b[0m \u001b[38;5;28;01mif\u001b[39;00m \u001b[38;5;28mcls\u001b[39m \u001b[38;5;129;01mis\u001b[39;00m \u001b[38;5;28;01mNone\u001b[39;00m:\n\u001b[1;32m    348\u001b[0m     \u001b[38;5;28mcls\u001b[39m \u001b[38;5;241m=\u001b[39m JSONDecoder\n",
      "File \u001b[0;32m/Library/Frameworks/Python.framework/Versions/3.11/lib/python3.11/json/decoder.py:340\u001b[0m, in \u001b[0;36mJSONDecoder.decode\u001b[0;34m(self, s, _w)\u001b[0m\n\u001b[1;32m    338\u001b[0m end \u001b[38;5;241m=\u001b[39m _w(s, end)\u001b[38;5;241m.\u001b[39mend()\n\u001b[1;32m    339\u001b[0m \u001b[38;5;28;01mif\u001b[39;00m end \u001b[38;5;241m!=\u001b[39m \u001b[38;5;28mlen\u001b[39m(s):\n\u001b[0;32m--> 340\u001b[0m     \u001b[38;5;28;01mraise\u001b[39;00m JSONDecodeError(\u001b[38;5;124m\"\u001b[39m\u001b[38;5;124mExtra data\u001b[39m\u001b[38;5;124m\"\u001b[39m, s, end)\n\u001b[1;32m    341\u001b[0m \u001b[38;5;28;01mreturn\u001b[39;00m obj\n",
      "\u001b[0;31mJSONDecodeError\u001b[0m: Extra data: line 8 column 1 (char 275)"
     ]
    }
   ],
   "source": [
    "get_and_render_prompt_chat2(\"foresta\")"
   ]
  },
  {
   "cell_type": "code",
   "execution_count": null,
   "id": "0d50d2c9",
   "metadata": {},
   "outputs": [],
   "source": []
  }
 ],
 "metadata": {
  "kernelspec": {
   "display_name": "Python 3 (ipykernel)",
   "language": "python",
   "name": "python3"
  },
  "language_info": {
   "codemirror_mode": {
    "name": "ipython",
    "version": 3
   },
   "file_extension": ".py",
   "mimetype": "text/x-python",
   "name": "python",
   "nbconvert_exporter": "python",
   "pygments_lexer": "ipython3",
   "version": "3.11.3"
  }
 },
 "nbformat": 4,
 "nbformat_minor": 5
}
